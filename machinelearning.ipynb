{
 "cells": [
  {
   "cell_type": "code",
   "execution_count": 1,
   "id": "d799a72f-08ef-4b0c-8966-5a2266f99af4",
   "metadata": {},
   "outputs": [
    {
     "name": "stdout",
     "output_type": "stream",
     "text": [
      "Requirement already satisfied: opencv-python in /opt/anaconda3/lib/python3.12/site-packages (4.10.0.84)\n",
      "Requirement already satisfied: numpy>=1.21.2 in /opt/anaconda3/lib/python3.12/site-packages (from opencv-python) (1.26.4)\n",
      "Note: you may need to restart the kernel to use updated packages.\n"
     ]
    }
   ],
   "source": [
    "pip install opencv-python\n"
   ]
  },
  {
   "cell_type": "code",
   "execution_count": 2,
   "id": "b164d568-5a2e-467c-8432-17c9ce74ee20",
   "metadata": {},
   "outputs": [
    {
     "name": "stdout",
     "output_type": "stream",
     "text": [
      "Requirement already satisfied: tensorflow in /opt/anaconda3/lib/python3.12/site-packages (2.18.0)\n",
      "Requirement already satisfied: absl-py>=1.0.0 in /opt/anaconda3/lib/python3.12/site-packages (from tensorflow) (2.1.0)\n",
      "Requirement already satisfied: astunparse>=1.6.0 in /opt/anaconda3/lib/python3.12/site-packages (from tensorflow) (1.6.3)\n",
      "Requirement already satisfied: flatbuffers>=24.3.25 in /opt/anaconda3/lib/python3.12/site-packages (from tensorflow) (24.3.25)\n",
      "Requirement already satisfied: gast!=0.5.0,!=0.5.1,!=0.5.2,>=0.2.1 in /opt/anaconda3/lib/python3.12/site-packages (from tensorflow) (0.6.0)\n",
      "Requirement already satisfied: google-pasta>=0.1.1 in /opt/anaconda3/lib/python3.12/site-packages (from tensorflow) (0.2.0)\n",
      "Requirement already satisfied: libclang>=13.0.0 in /opt/anaconda3/lib/python3.12/site-packages (from tensorflow) (18.1.1)\n",
      "Requirement already satisfied: opt-einsum>=2.3.2 in /opt/anaconda3/lib/python3.12/site-packages (from tensorflow) (3.4.0)\n",
      "Requirement already satisfied: packaging in /opt/anaconda3/lib/python3.12/site-packages (from tensorflow) (23.2)\n",
      "Requirement already satisfied: protobuf!=4.21.0,!=4.21.1,!=4.21.2,!=4.21.3,!=4.21.4,!=4.21.5,<6.0.0dev,>=3.20.3 in /opt/anaconda3/lib/python3.12/site-packages (from tensorflow) (3.20.3)\n",
      "Requirement already satisfied: requests<3,>=2.21.0 in /opt/anaconda3/lib/python3.12/site-packages (from tensorflow) (2.32.2)\n",
      "Requirement already satisfied: setuptools in /opt/anaconda3/lib/python3.12/site-packages (from tensorflow) (69.5.1)\n",
      "Requirement already satisfied: six>=1.12.0 in /opt/anaconda3/lib/python3.12/site-packages (from tensorflow) (1.16.0)\n",
      "Requirement already satisfied: termcolor>=1.1.0 in /opt/anaconda3/lib/python3.12/site-packages (from tensorflow) (2.5.0)\n",
      "Requirement already satisfied: typing-extensions>=3.6.6 in /opt/anaconda3/lib/python3.12/site-packages (from tensorflow) (4.11.0)\n",
      "Requirement already satisfied: wrapt>=1.11.0 in /opt/anaconda3/lib/python3.12/site-packages (from tensorflow) (1.14.1)\n",
      "Requirement already satisfied: grpcio<2.0,>=1.24.3 in /opt/anaconda3/lib/python3.12/site-packages (from tensorflow) (1.68.0)\n",
      "Requirement already satisfied: tensorboard<2.19,>=2.18 in /opt/anaconda3/lib/python3.12/site-packages (from tensorflow) (2.18.0)\n",
      "Requirement already satisfied: keras>=3.5.0 in /opt/anaconda3/lib/python3.12/site-packages (from tensorflow) (3.6.0)\n",
      "Requirement already satisfied: numpy<2.1.0,>=1.26.0 in /opt/anaconda3/lib/python3.12/site-packages (from tensorflow) (1.26.4)\n",
      "Requirement already satisfied: h5py>=3.11.0 in /opt/anaconda3/lib/python3.12/site-packages (from tensorflow) (3.11.0)\n",
      "Requirement already satisfied: ml-dtypes<0.5.0,>=0.4.0 in /opt/anaconda3/lib/python3.12/site-packages (from tensorflow) (0.4.1)\n",
      "Requirement already satisfied: wheel<1.0,>=0.23.0 in /opt/anaconda3/lib/python3.12/site-packages (from astunparse>=1.6.0->tensorflow) (0.43.0)\n",
      "Requirement already satisfied: rich in /opt/anaconda3/lib/python3.12/site-packages (from keras>=3.5.0->tensorflow) (13.3.5)\n",
      "Requirement already satisfied: namex in /opt/anaconda3/lib/python3.12/site-packages (from keras>=3.5.0->tensorflow) (0.0.8)\n",
      "Requirement already satisfied: optree in /opt/anaconda3/lib/python3.12/site-packages (from keras>=3.5.0->tensorflow) (0.13.1)\n",
      "Requirement already satisfied: charset-normalizer<4,>=2 in /opt/anaconda3/lib/python3.12/site-packages (from requests<3,>=2.21.0->tensorflow) (2.0.4)\n",
      "Requirement already satisfied: idna<4,>=2.5 in /opt/anaconda3/lib/python3.12/site-packages (from requests<3,>=2.21.0->tensorflow) (3.7)\n",
      "Requirement already satisfied: urllib3<3,>=1.21.1 in /opt/anaconda3/lib/python3.12/site-packages (from requests<3,>=2.21.0->tensorflow) (2.2.2)\n",
      "Requirement already satisfied: certifi>=2017.4.17 in /opt/anaconda3/lib/python3.12/site-packages (from requests<3,>=2.21.0->tensorflow) (2024.8.30)\n",
      "Requirement already satisfied: markdown>=2.6.8 in /opt/anaconda3/lib/python3.12/site-packages (from tensorboard<2.19,>=2.18->tensorflow) (3.4.1)\n",
      "Requirement already satisfied: tensorboard-data-server<0.8.0,>=0.7.0 in /opt/anaconda3/lib/python3.12/site-packages (from tensorboard<2.19,>=2.18->tensorflow) (0.7.2)\n",
      "Requirement already satisfied: werkzeug>=1.0.1 in /opt/anaconda3/lib/python3.12/site-packages (from tensorboard<2.19,>=2.18->tensorflow) (3.0.3)\n",
      "Requirement already satisfied: MarkupSafe>=2.1.1 in /opt/anaconda3/lib/python3.12/site-packages (from werkzeug>=1.0.1->tensorboard<2.19,>=2.18->tensorflow) (2.1.3)\n",
      "Requirement already satisfied: markdown-it-py<3.0.0,>=2.2.0 in /opt/anaconda3/lib/python3.12/site-packages (from rich->keras>=3.5.0->tensorflow) (2.2.0)\n",
      "Requirement already satisfied: pygments<3.0.0,>=2.13.0 in /opt/anaconda3/lib/python3.12/site-packages (from rich->keras>=3.5.0->tensorflow) (2.15.1)\n",
      "Requirement already satisfied: mdurl~=0.1 in /opt/anaconda3/lib/python3.12/site-packages (from markdown-it-py<3.0.0,>=2.2.0->rich->keras>=3.5.0->tensorflow) (0.1.0)\n",
      "Note: you may need to restart the kernel to use updated packages.\n"
     ]
    }
   ],
   "source": [
    "%pip install tensorflow\n"
   ]
  },
  {
   "cell_type": "code",
   "execution_count": 3,
   "id": "95fbb9ee-1404-4085-9830-674e21bc3f6f",
   "metadata": {},
   "outputs": [
    {
     "name": "stdout",
     "output_type": "stream",
     "text": [
      "Requirement already satisfied: pygame in /opt/anaconda3/lib/python3.12/site-packages (2.6.1)\n",
      "Note: you may need to restart the kernel to use updated packages.\n"
     ]
    }
   ],
   "source": [
    "pip install pygame"
   ]
  },
  {
   "cell_type": "code",
   "execution_count": 1,
   "id": "historic-session",
   "metadata": {},
   "outputs": [],
   "source": [
    "import numpy as np\n",
    "import cv2\n",
    "import os\n",
    "import random\n",
    "import matplotlib.pyplot as plt\n",
    "import pickle"
   ]
  },
  {
   "cell_type": "code",
   "execution_count": 7,
   "id": "first-wheel",
   "metadata": {},
   "outputs": [],
   "source": [
    "Directory = r'/Users/keerthanakola/Downloads/driver-drowsiness-detection-Project/1/dataset_new/train'\n",
    "CATEGORIES = ['Closed' , 'Open']"
   ]
  },
  {
   "cell_type": "code",
   "execution_count": 37,
   "id": "level-spine",
   "metadata": {},
   "outputs": [],
   "source": [
    "img_size = 24\n",
    "data = []\n",
    "\n",
    "\n",
    "for category in CATEGORIES:\n",
    "    folder = os.path.join(Directory,category)\n",
    "    label = CATEGORIES.index(category)\n",
    "    for img in os.listdir(folder):\n",
    "        img_path = os.path.join(folder, img)\n",
    "        img_arr = cv2.imread(img_path)\n",
    "        img_arr = cv2.cvtColor(img_arr, cv2.COLOR_BGR2GRAY)\n",
    "        img_arr = cv2.resize(img_arr,(img_size, img_size),1)\n",
    "        data.append([img_arr , label])"
   ]
  },
  {
   "cell_type": "code",
   "execution_count": 38,
   "id": "japanese-reference",
   "metadata": {},
   "outputs": [],
   "source": [
    "\n",
    "random.shuffle(data)"
   ]
  },
  {
   "cell_type": "code",
   "execution_count": 41,
   "id": "cognitive-purple",
   "metadata": {},
   "outputs": [],
   "source": [
    "X = []\n",
    "Y = []\n",
    "\n",
    "for features,label in data:\n",
    "    X.append(features)\n",
    "    Y.append(label)"
   ]
  },
  {
   "cell_type": "code",
   "execution_count": 43,
   "id": "answering-steel",
   "metadata": {},
   "outputs": [],
   "source": [
    "X = np.array(X)\n",
    "Y = np.array(Y)"
   ]
  },
  {
   "cell_type": "code",
   "execution_count": 45,
   "id": "headed-addiction",
   "metadata": {},
   "outputs": [],
   "source": [
    "pickle.dump(X , open('X.pkl' , 'wb'))\n",
    "pickle.dump(Y , open('Y.pkl' , 'wb'))"
   ]
  },
  {
   "cell_type": "code",
   "execution_count": 47,
   "id": "pretty-constitution",
   "metadata": {},
   "outputs": [],
   "source": [
    "X = X/255"
   ]
  },
  {
   "cell_type": "code",
   "execution_count": 49,
   "id": "scheduled-silver",
   "metadata": {},
   "outputs": [
    {
     "data": {
      "text/plain": [
       "array([[[0.0745098 , 0.15294118, 0.15294118, ..., 0.67843137,\n",
       "         0.66666667, 0.67058824],\n",
       "        [0.12941176, 0.14901961, 0.14901961, ..., 0.64313725,\n",
       "         0.64705882, 0.65882353],\n",
       "        [0.16078431, 0.15294118, 0.19607843, ..., 0.55686275,\n",
       "         0.64705882, 0.65490196],\n",
       "        ...,\n",
       "        [0.27058824, 0.25490196, 0.29411765, ..., 0.50196078,\n",
       "         0.48627451, 0.47843137],\n",
       "        [0.29019608, 0.28235294, 0.30588235, ..., 0.5372549 ,\n",
       "         0.50196078, 0.49019608],\n",
       "        [0.29803922, 0.30196078, 0.34901961, ..., 0.58039216,\n",
       "         0.5254902 , 0.49019608]],\n",
       "\n",
       "       [[0.65098039, 0.63137255, 0.61568627, ..., 0.46666667,\n",
       "         0.46666667, 0.45490196],\n",
       "        [0.62745098, 0.61568627, 0.6       , ..., 0.40784314,\n",
       "         0.4627451 , 0.45490196],\n",
       "        [0.61568627, 0.6       , 0.57254902, ..., 0.30196078,\n",
       "         0.37647059, 0.41568627],\n",
       "        ...,\n",
       "        [0.36862745, 0.36862745, 0.3372549 , ..., 0.41960784,\n",
       "         0.42745098, 0.42352941],\n",
       "        [0.4       , 0.38039216, 0.35294118, ..., 0.43137255,\n",
       "         0.43137255, 0.43921569],\n",
       "        [0.41960784, 0.39607843, 0.38431373, ..., 0.43921569,\n",
       "         0.44705882, 0.45098039]],\n",
       "\n",
       "       [[0.29411765, 0.27843137, 0.34509804, ..., 0.61568627,\n",
       "         0.60392157, 0.60784314],\n",
       "        [0.3254902 , 0.31764706, 0.49411765, ..., 0.61960784,\n",
       "         0.56862745, 0.58039216],\n",
       "        [0.35294118, 0.36078431, 0.59215686, ..., 0.52941176,\n",
       "         0.6       , 0.54901961],\n",
       "        ...,\n",
       "        [0.52156863, 0.50980392, 0.47843137, ..., 0.59215686,\n",
       "         0.58823529, 0.55294118],\n",
       "        [0.54901961, 0.52941176, 0.49019608, ..., 0.58823529,\n",
       "         0.53333333, 0.50196078],\n",
       "        [0.52941176, 0.51764706, 0.4745098 , ..., 0.56862745,\n",
       "         0.52156863, 0.5254902 ]],\n",
       "\n",
       "       ...,\n",
       "\n",
       "       [[0.45098039, 0.43137255, 0.28627451, ..., 0.42745098,\n",
       "         0.44313725, 0.44705882],\n",
       "        [0.43921569, 0.22745098, 0.18823529, ..., 0.35686275,\n",
       "         0.37254902, 0.37254902],\n",
       "        [0.24705882, 0.20392157, 0.12941176, ..., 0.30588235,\n",
       "         0.32941176, 0.4       ],\n",
       "        ...,\n",
       "        [0.39215686, 0.37647059, 0.36862745, ..., 0.28627451,\n",
       "         0.28627451, 0.29019608],\n",
       "        [0.35294118, 0.35294118, 0.34117647, ..., 0.30196078,\n",
       "         0.29411765, 0.32156863],\n",
       "        [0.35294118, 0.34117647, 0.34509804, ..., 0.28627451,\n",
       "         0.29019608, 0.32156863]],\n",
       "\n",
       "       [[0.79607843, 0.8       , 0.77647059, ..., 0.63529412,\n",
       "         0.61568627, 0.57647059],\n",
       "        [0.77647059, 0.76470588, 0.74117647, ..., 0.62745098,\n",
       "         0.62352941, 0.57647059],\n",
       "        [0.73333333, 0.71372549, 0.69411765, ..., 0.46666667,\n",
       "         0.61176471, 0.5372549 ],\n",
       "        ...,\n",
       "        [0.25882353, 0.73333333, 0.81176471, ..., 0.59607843,\n",
       "         0.58823529, 0.69803922],\n",
       "        [0.70588235, 0.68235294, 0.81960784, ..., 0.59607843,\n",
       "         0.57647059, 0.62352941],\n",
       "        [0.85490196, 0.66666667, 0.83921569, ..., 0.63529412,\n",
       "         0.63137255, 0.61960784]],\n",
       "\n",
       "       [[0.76862745, 0.77647059, 0.78039216, ..., 0.86666667,\n",
       "         0.86666667, 0.85490196],\n",
       "        [0.76862745, 0.76862745, 0.76862745, ..., 0.85882353,\n",
       "         0.85490196, 0.85490196],\n",
       "        [0.76862745, 0.79215686, 0.79215686, ..., 0.81960784,\n",
       "         0.83529412, 0.83921569],\n",
       "        ...,\n",
       "        [0.83921569, 0.84313725, 0.84313725, ..., 0.81568627,\n",
       "         0.84313725, 0.85490196],\n",
       "        [0.82745098, 0.83137255, 0.83529412, ..., 0.86666667,\n",
       "         0.86666667, 0.85490196],\n",
       "        [0.81176471, 0.81960784, 0.82745098, ..., 0.87843137,\n",
       "         0.86666667, 0.85490196]]])"
      ]
     },
     "execution_count": 49,
     "metadata": {},
     "output_type": "execute_result"
    }
   ],
   "source": [
    "X"
   ]
  },
  {
   "cell_type": "code",
   "execution_count": 51,
   "id": "current-pasta",
   "metadata": {},
   "outputs": [
    {
     "data": {
      "text/plain": [
       "(1234, 24, 24, 1)"
      ]
     },
     "execution_count": 51,
     "metadata": {},
     "output_type": "execute_result"
    }
   ],
   "source": [
    "img_rows,img_cols = 24,24\n",
    "X = X.reshape(X.shape[0],img_rows,img_cols,1)\n",
    "X.shape"
   ]
  },
  {
   "cell_type": "code",
   "execution_count": 59,
   "id": "inner-greensboro",
   "metadata": {},
   "outputs": [],
   "source": [
    "from keras.models import Sequential\n",
    "from keras.layers import Conv2D , MaxPooling2D , Flatten , Dense"
   ]
  },
  {
   "cell_type": "code",
   "execution_count": 60,
   "id": "soviet-hamilton",
   "metadata": {},
   "outputs": [
    {
     "name": "stderr",
     "output_type": "stream",
     "text": [
      "/opt/anaconda3/lib/python3.12/site-packages/keras/src/layers/convolutional/base_conv.py:107: UserWarning: Do not pass an `input_shape`/`input_dim` argument to a layer. When using Sequential models, prefer using an `Input(shape)` object as the first layer in the model instead.\n",
      "  super().__init__(activity_regularizer=activity_regularizer, **kwargs)\n"
     ]
    }
   ],
   "source": [
    "model = Sequential()\n",
    "\n",
    "model.add(Conv2D(64 , (3,3) , activation = 'relu' , input_shape= X.shape[1:]))\n",
    "model.add(MaxPooling2D((1,1)))\n",
    "\n",
    "model.add(Conv2D(64 , (3,3) , activation = 'relu'))\n",
    "model.add(MaxPooling2D((1,1)))\n",
    "\n",
    "model.add(Conv2D(64 , (3,3) , activation = 'relu'))\n",
    "model.add(MaxPooling2D((1,1)))\n",
    "\n",
    "model.add(Flatten())\n",
    "\n",
    "model.add(Dense(128, activation = 'relu'))\n",
    "\n",
    "model.add(Dense(2, activation = 'softmax'))"
   ]
  },
  {
   "cell_type": "code",
   "execution_count": 71,
   "id": "seven-definition",
   "metadata": {},
   "outputs": [],
   "source": [
    "\n",
    "model.compile(optimizer = 'adam' , loss = 'sparse_categorical_crossentropy' , metrics = ['accuracy'])"
   ]
  },
  {
   "cell_type": "code",
   "execution_count": 73,
   "id": "nasty-measurement",
   "metadata": {},
   "outputs": [
    {
     "name": "stdout",
     "output_type": "stream",
     "text": [
      "Epoch 1/5\n",
      "\u001b[1m35/35\u001b[0m \u001b[32m━━━━━━━━━━━━━━━━━━━━\u001b[0m\u001b[37m\u001b[0m \u001b[1m2s\u001b[0m 34ms/step - accuracy: 0.9668 - loss: 0.0849 - val_accuracy: 0.9597 - val_loss: 0.0954\n",
      "Epoch 2/5\n",
      "\u001b[1m35/35\u001b[0m \u001b[32m━━━━━━━━━━━━━━━━━━━━\u001b[0m\u001b[37m\u001b[0m \u001b[1m1s\u001b[0m 33ms/step - accuracy: 0.9779 - loss: 0.0609 - val_accuracy: 0.9839 - val_loss: 0.1409\n",
      "Epoch 3/5\n",
      "\u001b[1m35/35\u001b[0m \u001b[32m━━━━━━━━━━━━━━━━━━━━\u001b[0m\u001b[37m\u001b[0m \u001b[1m1s\u001b[0m 35ms/step - accuracy: 0.9873 - loss: 0.0489 - val_accuracy: 0.9839 - val_loss: 0.0662\n",
      "Epoch 4/5\n",
      "\u001b[1m35/35\u001b[0m \u001b[32m━━━━━━━━━━━━━━━━━━━━\u001b[0m\u001b[37m\u001b[0m \u001b[1m1s\u001b[0m 35ms/step - accuracy: 0.9831 - loss: 0.0494 - val_accuracy: 0.9839 - val_loss: 0.1135\n",
      "Epoch 5/5\n",
      "\u001b[1m35/35\u001b[0m \u001b[32m━━━━━━━━━━━━━━━━━━━━\u001b[0m\u001b[37m\u001b[0m \u001b[1m1s\u001b[0m 32ms/step - accuracy: 0.9851 - loss: 0.0299 - val_accuracy: 0.9677 - val_loss: 0.1012\n"
     ]
    },
    {
     "data": {
      "text/plain": [
       "<keras.src.callbacks.history.History at 0x169737bc0>"
      ]
     },
     "execution_count": 73,
     "metadata": {},
     "output_type": "execute_result"
    }
   ],
   "source": [
    "\n",
    "model.fit(X, Y, epochs = 5 , validation_split = 0.1 , batch_size = 32)"
   ]
  },
  {
   "cell_type": "markdown",
   "id": "engaged-exclusive",
   "metadata": {},
   "source": []
  },
  {
   "cell_type": "code",
   "execution_count": 69,
   "id": "purple-worry",
   "metadata": {},
   "outputs": [],
   "source": [
    "model.save(\"/Users/keerthanakola/Downloads/driver-drowsiness-detection-Project/custmodel.keras\")"
   ]
  },
  {
   "cell_type": "code",
   "execution_count": null,
   "id": "573a713f-5af9-4778-8b55-bfb778a803f8",
   "metadata": {},
   "outputs": [],
   "source": []
  },
  {
   "cell_type": "code",
   "execution_count": null,
   "id": "075d229d-640d-4306-8a34-ba522a7c11f9",
   "metadata": {},
   "outputs": [],
   "source": []
  }
 ],
 "metadata": {
  "kernelspec": {
   "display_name": "Python 3 (ipykernel)",
   "language": "python",
   "name": "python3"
  },
  "language_info": {
   "codemirror_mode": {
    "name": "ipython",
    "version": 3
   },
   "file_extension": ".py",
   "mimetype": "text/x-python",
   "name": "python",
   "nbconvert_exporter": "python",
   "pygments_lexer": "ipython3",
   "version": "3.12.4"
  }
 },
 "nbformat": 4,
 "nbformat_minor": 5
}
